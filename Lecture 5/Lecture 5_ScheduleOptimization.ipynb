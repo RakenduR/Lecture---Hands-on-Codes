{
 "cells": [
  {
   "cell_type": "markdown",
   "metadata": {},
   "source": [
    "# ISS623: Applied Healthcare Analytics\n",
    "\n",
    "# Lecture on Prescriptive Analytics - Schedule Optimization\n",
    "\n",
    "Workshop Instructions: \n",
    "\n",
    "1. Read through the text descriptions at the top of the cell/code blocks\n",
    "2. Run the code below by selecting the code block and pressing ``Ctrl + Enter``. Note: The preceding code blocks must be run before proceeding to the next block.\n",
    "2. Think through the guiding questions and points that are raised for the step. What do you observe from the output and what do they mean?\n",
    "\n",
    "This workshop on schedule assignment uses the `ortools` package from Google OR-Tools: https://developers.google.com/optimization\n"
   ]
  },
  {
   "cell_type": "code",
   "execution_count": 1,
   "metadata": {},
   "outputs": [
    {
     "name": "stdout",
     "output_type": "stream",
     "text": [
      "Requirement already satisfied: ortools in c:\\users\\sean lam\\.conda\\envs\\snowflakes\\lib\\site-packages (9.0.9048)\n",
      "Requirement already satisfied: absl-py>=0.11 in c:\\users\\sean lam\\.conda\\envs\\snowflakes\\lib\\site-packages (from ortools) (0.12.0)\n",
      "Requirement already satisfied: protobuf>=3.15.8 in c:\\users\\sean lam\\.conda\\envs\\snowflakes\\lib\\site-packages (from ortools) (3.17.3)\n",
      "Requirement already satisfied: six in c:\\users\\sean lam\\.conda\\envs\\snowflakes\\lib\\site-packages (from absl-py>=0.11->ortools) (1.15.0)\n",
      "\n",
      "[notice] A new release of pip available: 22.1.2 -> 22.2.1\n",
      "[notice] To update, run: python.exe -m pip install --upgrade pip\n"
     ]
    }
   ],
   "source": [
    "# run this if you need to install the ortools package\n",
    "!pip install ortools"
   ]
  },
  {
   "cell_type": "code",
   "execution_count": 2,
   "metadata": {},
   "outputs": [],
   "source": [
    "from ortools.sat.python import cp_model\n",
    "import pandas as pd\n",
    "import numpy as np"
   ]
  },
  {
   "cell_type": "markdown",
   "metadata": {},
   "source": [
    "# Simple Crew Scheduling Problem\n",
    "\n",
    "**Minimising Costs for COVID-19 Manpower Deployment in External Isolation Facilities**\n",
    "\n",
    "- TechHealth has been given an assignment to deploy trained nurses in external isolation facilities to deal with the surge in COVID-19 infections in the community\n",
    "- It need to hire additional trained nurses to cover shifts necessary for these facilities\n",
    "- Integer Programming model can be set up to estimate the number of additional staff to hire to minimize additional costs\n"
   ]
  },
  {
   "cell_type": "markdown",
   "metadata": {},
   "source": [
    "## Part 1: Shifts Defined by Management"
   ]
  },
  {
   "cell_type": "markdown",
   "metadata": {},
   "source": [
    "### 1. Set up CpModel object\n",
    "\n",
    "The `CpModel()` object represents the whole model that will hold all the decision variables, constraints and objective function. "
   ]
  },
  {
   "cell_type": "code",
   "execution_count": 3,
   "metadata": {},
   "outputs": [],
   "source": [
    "model = cp_model.CpModel()"
   ]
  },
  {
   "cell_type": "markdown",
   "metadata": {},
   "source": [
    "### 2. Define Decision Variables\n",
    "\n",
    "Define the decision variables for each of the shifts below. Note that for each of variables, a lower and upper limit must be set. These limits may have an effect on the feasibility of the solution and the optimal solution so they need to be set carefully. If the variable can be set to a value of 0, remember to set the lower limit to 0 as well.\n",
    "\n",
    "$x_1$: Number of hires for Shift 1 (6AM – 2PM);\n",
    "\n",
    "$x_2$: Number of hires for Shift 2 (8AM – 4 PM);\n",
    "\n",
    "$x_3$: Number of hires for Shift 3 (12Noon – 8PM); \n",
    "\n",
    "$x_4$: Number of hires for Shift 3 Shift 4 (4PM – 12 MN);\n",
    "\n",
    "$x_5$: Number of hires for Shift 3 Shift 5 (12MN – 6AM)"
   ]
  },
  {
   "cell_type": "code",
   "execution_count": 4,
   "metadata": {},
   "outputs": [],
   "source": [
    "x_1 = model.NewIntVar(1,1000,'x_1')\n",
    "x_2 = model.NewIntVar(1,1000,'x_2')\n",
    "x_3 = model.NewIntVar(1,1000,'x_3')\n",
    "x_4 = model.NewIntVar(1,1000,'x_4')\n",
    "x_5 = model.NewIntVar(1,1000,'x_5')"
   ]
  },
  {
   "cell_type": "markdown",
   "metadata": {},
   "source": [
    "### 3. Add model constraints\n",
    "\n",
    "Define the constraints in the model below. In `ortools`, the constraints are set in the same manner as you would for a mathematical model. The variables and equality operators e.g. `>=`, `==`, `+` all can be used with the `model.Add()` method.\n",
    "\n",
    "1. $x_{1}\\geq 48$\n",
    "2. $x_{1} + x_{2} \\geq 79$\n",
    "3. $x_{1} + x_{2} + x_{3} \\geq 88$\n",
    "4. $x_{2} + x_{3} \\geq 64$\n",
    "5. $x_{3} + x_{4} \\geq 89$\n",
    "6. $x_{4} \\geq 43$\n",
    "7. $x_{4} + x_{5} \\geq 55$\n",
    "8. $x_{5} \\geq 16$"
   ]
  },
  {
   "cell_type": "code",
   "execution_count": 5,
   "metadata": {},
   "outputs": [],
   "source": [
    "model.Add(x_1 >= 48)\n",
    "model.Add(x_1 + x_2 >= 79)\n",
    "model.Add(x_1 + x_2 + x_3 >= 88)\n",
    "model.Add(x_2 + x_3 >= 64)\n",
    "model.Add(x_3 + x_4 >= 89)\n",
    "model.Add(x_4 >= 43)\n",
    "model.Add(x_4 + x_5 >=55)\n",
    "model.Add(x_5 >= 16)\n",
    "for x in [x_1,x_2,x_3,x_4,x_5]:\n",
    "    model.Add(x >= 0)"
   ]
  },
  {
   "cell_type": "markdown",
   "metadata": {},
   "source": [
    "### 4. Define Objective Function:\n",
    "\n",
    "The objective function here is to minimize the total cost of the hires and can be defined as follows\n",
    "\n",
    "$Min  Z = 170x_1 + 180x_2 + 156x_3 + 180x_4 + 205x_5$\n",
    "\n",
    "The objective function equation will have to be used with the `model.Minimize()` method to define the objective in the model object.\n"
   ]
  },
  {
   "cell_type": "code",
   "execution_count": 6,
   "metadata": {},
   "outputs": [],
   "source": [
    "model.Minimize( 170*x_1 + 180*x_2 + 156*x_3 + 180*x_4 + 205*x_5)"
   ]
  },
  {
   "cell_type": "markdown",
   "metadata": {},
   "source": [
    "### 5. Select Solver and Solve Model\n",
    "\n",
    "The default solver used for most models is the `CpSolver` solver, but there are also others than you can explore in the Google OR-Tools documentation. After running the code below, you should see an 'OPTIMAL' output printed. This indicates that the model is feasible and has reached an optimal solution. At times, if the model is defined incorrectly or is infeasible, the 'INFEASIBLE' may also appear and the model defined above has to be checked for errors. "
   ]
  },
  {
   "cell_type": "code",
   "execution_count": 7,
   "metadata": {},
   "outputs": [
    {
     "name": "stdout",
     "output_type": "stream",
     "text": [
      "OPTIMAL\n"
     ]
    }
   ],
   "source": [
    "solver = cp_model.CpSolver()\n",
    "solver.Solve(model)\n",
    "print(solver.StatusName())"
   ]
  },
  {
   "cell_type": "markdown",
   "metadata": {},
   "source": [
    "### 6. Display optimal solution and objective value (total cost)\n",
    "\n",
    "The optimal solution can be displayed using `solver.Value()` and passing the variable name into the method. At the same time, th objective value can also be displayed using `solver.ObjectiveValue()`. Run the code below and look at the output. Is this reasonable according to what was defined in the model?"
   ]
  },
  {
   "cell_type": "code",
   "execution_count": 8,
   "metadata": {},
   "outputs": [
    {
     "name": "stdout",
     "output_type": "stream",
     "text": [
      "Hires for x_1: 61\n",
      "Hires for x_2: 18\n",
      "Hires for x_3: 46\n",
      "Hires for x_4: 43\n",
      "Hires for x_5: 16\n",
      "Total cost of hires: 31806.0\n"
     ]
    }
   ],
   "source": [
    "for x in [x_1,x_2,x_3,x_4,x_5]:\n",
    "    print('Hires for ' + x.Name() +': ' + str(solver.Value(x)))\n",
    "\n",
    "print('Total cost of hires: ' + str(solver.ObjectiveValue()))"
   ]
  }
 ],
 "metadata": {
  "kernelspec": {
   "display_name": "Python 3.8.10 ('snowflakes')",
   "language": "python",
   "name": "python3"
  },
  "language_info": {
   "codemirror_mode": {
    "name": "ipython",
    "version": 3
   },
   "file_extension": ".py",
   "mimetype": "text/x-python",
   "name": "python",
   "nbconvert_exporter": "python",
   "pygments_lexer": "ipython3",
   "version": "3.8.10"
  },
  "vscode": {
   "interpreter": {
    "hash": "29bc6fb767ed4294db6b39c39c9d90ba3f5587e5b8a682d2dfc088b2cafbf2c0"
   }
  }
 },
 "nbformat": 4,
 "nbformat_minor": 2
}
