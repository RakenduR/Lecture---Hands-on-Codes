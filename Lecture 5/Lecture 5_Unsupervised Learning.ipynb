{
  "cells": [
    {
      "cell_type": "code",
      "source": [
        "# ! pip install https://github.com/pandas-profiling/pandas-profiling/archive/master.zip "
      ],
      "metadata": {
        "id": "GQiDC7q0uGTs"
      },
      "execution_count": null,
      "outputs": []
    },
    {
      "cell_type": "markdown",
      "metadata": {
        "id": "fYPK6CDetGCk"
      },
      "source": [
        "# Unsupervised Learning\n",
        "\n",
        "Unsupervised learning techniques are used to find hidden patterns in data, such as distinct groups of patients with different characteristics without relying on labels. Methods such as Principal Component Analysis (PCA) and K-Means clustering are some examples of this.\n",
        "\n",
        "In this example, we will use PCA for dimensionality reduction and to determine new key features that are derived from the existing continuous features such as age, creatinine etc. We will also use K-Means to perform clustering on the dataset look at the resulting cluster characteristics. \n"
      ]
    },
    {
      "cell_type": "markdown",
      "metadata": {
        "id": "fJhtIUdltGCo"
      },
      "source": [
        "The datasets in this notebook can be obtained from the **UCI Machine Learning Repository**\n",
        "\n",
        "1. Chronic Kidney Disease Dataset: https://archive.ics.uci.edu/ml/datasets/chronic_kidney_disease\n",
        "\n",
        "**References**:\n",
        "\n",
        "1. Dua, D. and Graff, C. (2019). UCI Machine Learning Repository [http://archive.ics.uci.edu/ml]. Irvine, CA: University of California, School of Information and Computer Science.\n"
      ]
    },
    {
      "cell_type": "code",
      "execution_count": 21,
      "metadata": {
        "id": "jKPx7EtvtGCp"
      },
      "outputs": [],
      "source": [
        "import pandas as pd\n",
        "import numpy as np\n",
        "\n",
        "from sklearn.preprocessing import  StandardScaler\n",
        "from sklearn.decomposition import PCA\n",
        "from sklearn.cluster import KMeans\n",
        "\n",
        "pd.set_option('display.max_columns', None)"
      ]
    },
    {
      "cell_type": "code",
      "execution_count": 23,
      "metadata": {
        "id": "4ezhibLLtGCq"
      },
      "outputs": [],
      "source": [
        "# local_path='C:\\\\_Work_Folder\\\\SMU\\\\MITB_HealthcareAnalytics\\\\Lectures\\\\Datasets\\\\Lecture 4\\\\CKD\\\\'\n",
        "ckd=pd.read_csv('https://raw.githubusercontent.com/ISSS623-AHA/Lecture---Hands-on-Codes/main/Lecture%202/chronic_kidney_disease_full.csv')"
      ]
    },
    {
      "cell_type": "markdown",
      "metadata": {
        "id": "miG47vYotGCq"
      },
      "source": [
        "## 1 Data Scaling & Categorical Variables for Clustering\n",
        "\n",
        "**Categorical Variables**\n",
        "\n",
        "For most clustering methods, categorical variables are an issue as they cannot be directly used with these methods. Clustering methods often use a distance-based measure to measure the distance, or difference between two cases or a cluster center, which might be applicable for continuous variables such as sodium levels. However for categorical variables, they can only take on a discrete or fixed value such as 0 or 1, or a list of conditions and may not have an inherent ranking among them. Hence, simply calculating the distance between an integer representation such as 1,2,3,4... does not represent the contribution from this variable appropriately.\n",
        "\n",
        "**Data Scaling**\n",
        "\n",
        "In the CKD dataset, certain variables such as **wbcc** have a much higher value than the other variables. Although this is a continuous variable, the large values may have a much higher influence on the total variance of the dataset. This in turn affects the use of PCA, which determines the contribution of the component to the total variance as well as K-Means, which relies on the distance between data points. Hence, the dataset needs to be normalized, or scaled to a standard range before performing PCA or K-Means clustering.\n",
        "\n",
        "- **age** - age\n",
        "- **bp** - blood pressure\n",
        "- **sg** - specific gravity\n",
        "- **al** - albumin\n",
        "- **su** - sugar\n",
        "- **rbc** - red blood cells\n",
        "- **pc** - pus cell\n",
        "- **pcc** - pus cell clumps\n",
        "- **ba** - bacteria\n",
        "- **bgr** - blood glucose random\n",
        "- **bu** - blood urea\n",
        "- **sc** - serum creatinine\n",
        "- **sod** - sodium\n",
        "- **pot** - potassium\n",
        "- **hemo** - hemoglobin\n",
        "- **pcv** - packed cell volume\n",
        "- **wc** - white blood cell count\n",
        "- **rc** - red blood cell count\n",
        "- **htn** - hypertension\n",
        "- **dm** - diabetes mellitus\n",
        "- **cad** - coronary artery disease\n",
        "- **appet** - appetite\n",
        "- **pe** - pedal edema\n",
        "- **ane** - anemia\n",
        "- [target] **class** - class"
      ]
    },
    {
      "cell_type": "code",
      "execution_count": 24,
      "metadata": {
        "colab": {
          "base_uri": "https://localhost:8080/",
          "height": 49
        },
        "id": "YIEavJfUtGCr",
        "outputId": "5c03f8ad-ba04-4859-a57c-bffca1b3dac1"
      },
      "outputs": [
        {
          "output_type": "execute_result",
          "data": {
            "text/plain": [
              "Empty DataFrame\n",
              "Columns: [age, bp, sg, al, su, rbc, pc, pcc, ba, bgr, bu, sc, sod, pot, hemo, pcv, wbcc, rbcc, htn, dm, cad, appet, pe, ane, class]\n",
              "Index: []"
            ],
            "text/html": [
              "\n",
              "  <div id=\"df-eec7d1fa-8e94-45aa-8642-3eed5f5eb526\">\n",
              "    <div class=\"colab-df-container\">\n",
              "      <div>\n",
              "<style scoped>\n",
              "    .dataframe tbody tr th:only-of-type {\n",
              "        vertical-align: middle;\n",
              "    }\n",
              "\n",
              "    .dataframe tbody tr th {\n",
              "        vertical-align: top;\n",
              "    }\n",
              "\n",
              "    .dataframe thead th {\n",
              "        text-align: right;\n",
              "    }\n",
              "</style>\n",
              "<table border=\"1\" class=\"dataframe\">\n",
              "  <thead>\n",
              "    <tr style=\"text-align: right;\">\n",
              "      <th></th>\n",
              "      <th>age</th>\n",
              "      <th>bp</th>\n",
              "      <th>sg</th>\n",
              "      <th>al</th>\n",
              "      <th>su</th>\n",
              "      <th>rbc</th>\n",
              "      <th>pc</th>\n",
              "      <th>pcc</th>\n",
              "      <th>ba</th>\n",
              "      <th>bgr</th>\n",
              "      <th>bu</th>\n",
              "      <th>sc</th>\n",
              "      <th>sod</th>\n",
              "      <th>pot</th>\n",
              "      <th>hemo</th>\n",
              "      <th>pcv</th>\n",
              "      <th>wbcc</th>\n",
              "      <th>rbcc</th>\n",
              "      <th>htn</th>\n",
              "      <th>dm</th>\n",
              "      <th>cad</th>\n",
              "      <th>appet</th>\n",
              "      <th>pe</th>\n",
              "      <th>ane</th>\n",
              "      <th>class</th>\n",
              "    </tr>\n",
              "  </thead>\n",
              "  <tbody>\n",
              "  </tbody>\n",
              "</table>\n",
              "</div>\n",
              "      <button class=\"colab-df-convert\" onclick=\"convertToInteractive('df-eec7d1fa-8e94-45aa-8642-3eed5f5eb526')\"\n",
              "              title=\"Convert this dataframe to an interactive table.\"\n",
              "              style=\"display:none;\">\n",
              "        \n",
              "  <svg xmlns=\"http://www.w3.org/2000/svg\" height=\"24px\"viewBox=\"0 0 24 24\"\n",
              "       width=\"24px\">\n",
              "    <path d=\"M0 0h24v24H0V0z\" fill=\"none\"/>\n",
              "    <path d=\"M18.56 5.44l.94 2.06.94-2.06 2.06-.94-2.06-.94-.94-2.06-.94 2.06-2.06.94zm-11 1L8.5 8.5l.94-2.06 2.06-.94-2.06-.94L8.5 2.5l-.94 2.06-2.06.94zm10 10l.94 2.06.94-2.06 2.06-.94-2.06-.94-.94-2.06-.94 2.06-2.06.94z\"/><path d=\"M17.41 7.96l-1.37-1.37c-.4-.4-.92-.59-1.43-.59-.52 0-1.04.2-1.43.59L10.3 9.45l-7.72 7.72c-.78.78-.78 2.05 0 2.83L4 21.41c.39.39.9.59 1.41.59.51 0 1.02-.2 1.41-.59l7.78-7.78 2.81-2.81c.8-.78.8-2.07 0-2.86zM5.41 20L4 18.59l7.72-7.72 1.47 1.35L5.41 20z\"/>\n",
              "  </svg>\n",
              "      </button>\n",
              "      \n",
              "  <style>\n",
              "    .colab-df-container {\n",
              "      display:flex;\n",
              "      flex-wrap:wrap;\n",
              "      gap: 12px;\n",
              "    }\n",
              "\n",
              "    .colab-df-convert {\n",
              "      background-color: #E8F0FE;\n",
              "      border: none;\n",
              "      border-radius: 50%;\n",
              "      cursor: pointer;\n",
              "      display: none;\n",
              "      fill: #1967D2;\n",
              "      height: 32px;\n",
              "      padding: 0 0 0 0;\n",
              "      width: 32px;\n",
              "    }\n",
              "\n",
              "    .colab-df-convert:hover {\n",
              "      background-color: #E2EBFA;\n",
              "      box-shadow: 0px 1px 2px rgba(60, 64, 67, 0.3), 0px 1px 3px 1px rgba(60, 64, 67, 0.15);\n",
              "      fill: #174EA6;\n",
              "    }\n",
              "\n",
              "    [theme=dark] .colab-df-convert {\n",
              "      background-color: #3B4455;\n",
              "      fill: #D2E3FC;\n",
              "    }\n",
              "\n",
              "    [theme=dark] .colab-df-convert:hover {\n",
              "      background-color: #434B5C;\n",
              "      box-shadow: 0px 1px 3px 1px rgba(0, 0, 0, 0.15);\n",
              "      filter: drop-shadow(0px 1px 2px rgba(0, 0, 0, 0.3));\n",
              "      fill: #FFFFFF;\n",
              "    }\n",
              "  </style>\n",
              "\n",
              "      <script>\n",
              "        const buttonEl =\n",
              "          document.querySelector('#df-eec7d1fa-8e94-45aa-8642-3eed5f5eb526 button.colab-df-convert');\n",
              "        buttonEl.style.display =\n",
              "          google.colab.kernel.accessAllowed ? 'block' : 'none';\n",
              "\n",
              "        async function convertToInteractive(key) {\n",
              "          const element = document.querySelector('#df-eec7d1fa-8e94-45aa-8642-3eed5f5eb526');\n",
              "          const dataTable =\n",
              "            await google.colab.kernel.invokeFunction('convertToInteractive',\n",
              "                                                     [key], {});\n",
              "          if (!dataTable) return;\n",
              "\n",
              "          const docLinkHtml = 'Like what you see? Visit the ' +\n",
              "            '<a target=\"_blank\" href=https://colab.research.google.com/notebooks/data_table.ipynb>data table notebook</a>'\n",
              "            + ' to learn more about interactive tables.';\n",
              "          element.innerHTML = '';\n",
              "          dataTable['output_type'] = 'display_data';\n",
              "          await google.colab.output.renderOutput(dataTable, element);\n",
              "          const docLink = document.createElement('div');\n",
              "          docLink.innerHTML = docLinkHtml;\n",
              "          element.appendChild(docLink);\n",
              "        }\n",
              "      </script>\n",
              "    </div>\n",
              "  </div>\n",
              "  "
            ]
          },
          "metadata": {},
          "execution_count": 24
        }
      ],
      "source": [
        "ckd[ckd.duplicated(subset=None)]"
      ]
    },
    {
      "cell_type": "code",
      "execution_count": 25,
      "metadata": {
        "id": "H3LuDrb6tGCs"
      },
      "outputs": [],
      "source": [
        "ckd.replace('?',np.nan,inplace=True)"
      ]
    },
    {
      "cell_type": "code",
      "execution_count": 26,
      "metadata": {
        "colab": {
          "base_uri": "https://localhost:8080/"
        },
        "id": "6qtnP6GqtGCs",
        "outputId": "e3a98748-8d91-47e5-c7b8-28a8d045867d"
      },
      "outputs": [
        {
          "output_type": "stream",
          "name": "stdout",
          "text": [
            "400\n",
            "158\n"
          ]
        }
      ],
      "source": [
        "# too many na's -> cannot drop. To deal with it using imputation\n",
        "print(len(ckd))\n",
        "ckd_na = ckd.dropna(how='any')\n",
        "print(len(ckd_na))"
      ]
    },
    {
      "cell_type": "code",
      "execution_count": 27,
      "metadata": {
        "id": "4GwwuCGVtGCt"
      },
      "outputs": [],
      "source": [
        "# From Lecture 2 Data Wrangling, we have the following groups of fields\n",
        "categorical_cols = ['rbc','pc','pcc','ba','appet']\n",
        "boolean_cols=['htn','dm','cad','pe','ane']\n",
        "numeric_cols = ['age','bp','sg','al','su','bgr','bu','sc','sod','pot','hemo','pcv','wbcc','rbcc']\n",
        "target = ['class']"
      ]
    },
    {
      "cell_type": "code",
      "execution_count": 28,
      "metadata": {
        "id": "stXGix1EtGCt"
      },
      "outputs": [],
      "source": [
        "# Correcting all the data types in ckd_new\n",
        "ckd_new = ckd\n",
        "ckd_new[numeric_cols]=ckd_new[numeric_cols].astype('float')"
      ]
    },
    {
      "cell_type": "code",
      "execution_count": 29,
      "metadata": {
        "id": "WnMBfBOytGCu"
      },
      "outputs": [],
      "source": [
        "for col in categorical_cols:\n",
        "    one_hot = pd.get_dummies(ckd_new[col],drop_first=True,dummy_na=True)\n",
        "    one_hot.columns = [col + '_' + str(a) for a in one_hot.columns]\n",
        "    ckd_new = ckd_new.drop(col,axis=1)\n",
        "    ckd_new = ckd_new.join(one_hot)"
      ]
    },
    {
      "cell_type": "code",
      "execution_count": 30,
      "metadata": {
        "colab": {
          "base_uri": "https://localhost:8080/"
        },
        "id": "Ulh3hGJitGCu",
        "outputId": "bddda212-1037-44c0-dcf7-da85216bc8b7"
      },
      "outputs": [
        {
          "output_type": "stream",
          "name": "stdout",
          "text": [
            "<class 'pandas.core.frame.DataFrame'>\n",
            "RangeIndex: 400 entries, 0 to 399\n",
            "Data columns (total 5 columns):\n",
            " #   Column  Non-Null Count  Dtype\n",
            "---  ------  --------------  -----\n",
            " 0   htn     400 non-null    bool \n",
            " 1   dm      400 non-null    bool \n",
            " 2   cad     400 non-null    bool \n",
            " 3   pe      400 non-null    bool \n",
            " 4   ane     400 non-null    bool \n",
            "dtypes: bool(5)\n",
            "memory usage: 2.1 KB\n"
          ]
        }
      ],
      "source": [
        "# Label encoding for Boolean variables ('Yes' -> True; 'No' -> False)\n",
        "ckd_new[boolean_cols] = np.where(ckd_new[boolean_cols] == 'Yes',True,False)\n",
        "ckd_new[boolean_cols].info()"
      ]
    },
    {
      "cell_type": "code",
      "execution_count": 31,
      "metadata": {
        "id": "7n2bQQa1tGCu"
      },
      "outputs": [],
      "source": [
        "ckd_new[target]=np.where(ckd_new[target]=='ckd',1,0)"
      ]
    },
    {
      "cell_type": "code",
      "execution_count": 32,
      "metadata": {
        "colab": {
          "base_uri": "https://localhost:8080/",
          "height": 206
        },
        "id": "ei-cXW9ntGCu",
        "outputId": "f25bf2d8-4fab-4b31-f8ed-68df2744ca6c"
      },
      "outputs": [
        {
          "output_type": "execute_result",
          "data": {
            "text/plain": [
              "    age    bp     sg   al   su    bgr    bu   sc    sod  pot  hemo   pcv  \\\n",
              "0  48.0  80.0  1.020  1.0  0.0  121.0  36.0  1.2    NaN  NaN  15.4  44.0   \n",
              "1   7.0  50.0  1.020  4.0  0.0    NaN  18.0  0.8    NaN  NaN  11.3  38.0   \n",
              "2  62.0  80.0  1.010  2.0  3.0  423.0  53.0  1.8    NaN  NaN   9.6  31.0   \n",
              "3  48.0  70.0  1.005  4.0  0.0  117.0  56.0  3.8  111.0  2.5  11.2  32.0   \n",
              "4  51.0  80.0  1.010  2.0  0.0  106.0  26.0  1.4    NaN  NaN  11.6  35.0   \n",
              "\n",
              "     wbcc  rbcc    htn     dm    cad     pe    ane  class  rbc_normal  \\\n",
              "0  7800.0   5.2  False  False  False  False  False      1           0   \n",
              "1  6000.0   NaN  False  False  False  False  False      1           0   \n",
              "2  7500.0   NaN  False  False  False  False  False      1           1   \n",
              "3  6700.0   3.9  False  False  False  False  False      1           1   \n",
              "4  7300.0   4.6  False  False  False  False  False      1           1   \n",
              "\n",
              "   rbc_nan  pc_normal  pc_nan  pcc_present  pcc_nan  ba_present  ba_nan  \\\n",
              "0        1          1       0            0        0           0       0   \n",
              "1        1          1       0            0        0           0       0   \n",
              "2        0          1       0            0        0           0       0   \n",
              "3        0          0       0            1        0           0       0   \n",
              "4        0          1       0            0        0           0       0   \n",
              "\n",
              "   appet_poor  appet_nan  \n",
              "0           0          0  \n",
              "1           0          0  \n",
              "2           1          0  \n",
              "3           1          0  \n",
              "4           0          0  "
            ],
            "text/html": [
              "\n",
              "  <div id=\"df-a0d16a72-448f-47d5-961d-6fa41f318adb\">\n",
              "    <div class=\"colab-df-container\">\n",
              "      <div>\n",
              "<style scoped>\n",
              "    .dataframe tbody tr th:only-of-type {\n",
              "        vertical-align: middle;\n",
              "    }\n",
              "\n",
              "    .dataframe tbody tr th {\n",
              "        vertical-align: top;\n",
              "    }\n",
              "\n",
              "    .dataframe thead th {\n",
              "        text-align: right;\n",
              "    }\n",
              "</style>\n",
              "<table border=\"1\" class=\"dataframe\">\n",
              "  <thead>\n",
              "    <tr style=\"text-align: right;\">\n",
              "      <th></th>\n",
              "      <th>age</th>\n",
              "      <th>bp</th>\n",
              "      <th>sg</th>\n",
              "      <th>al</th>\n",
              "      <th>su</th>\n",
              "      <th>bgr</th>\n",
              "      <th>bu</th>\n",
              "      <th>sc</th>\n",
              "      <th>sod</th>\n",
              "      <th>pot</th>\n",
              "      <th>hemo</th>\n",
              "      <th>pcv</th>\n",
              "      <th>wbcc</th>\n",
              "      <th>rbcc</th>\n",
              "      <th>htn</th>\n",
              "      <th>dm</th>\n",
              "      <th>cad</th>\n",
              "      <th>pe</th>\n",
              "      <th>ane</th>\n",
              "      <th>class</th>\n",
              "      <th>rbc_normal</th>\n",
              "      <th>rbc_nan</th>\n",
              "      <th>pc_normal</th>\n",
              "      <th>pc_nan</th>\n",
              "      <th>pcc_present</th>\n",
              "      <th>pcc_nan</th>\n",
              "      <th>ba_present</th>\n",
              "      <th>ba_nan</th>\n",
              "      <th>appet_poor</th>\n",
              "      <th>appet_nan</th>\n",
              "    </tr>\n",
              "  </thead>\n",
              "  <tbody>\n",
              "    <tr>\n",
              "      <th>0</th>\n",
              "      <td>48.0</td>\n",
              "      <td>80.0</td>\n",
              "      <td>1.020</td>\n",
              "      <td>1.0</td>\n",
              "      <td>0.0</td>\n",
              "      <td>121.0</td>\n",
              "      <td>36.0</td>\n",
              "      <td>1.2</td>\n",
              "      <td>NaN</td>\n",
              "      <td>NaN</td>\n",
              "      <td>15.4</td>\n",
              "      <td>44.0</td>\n",
              "      <td>7800.0</td>\n",
              "      <td>5.2</td>\n",
              "      <td>False</td>\n",
              "      <td>False</td>\n",
              "      <td>False</td>\n",
              "      <td>False</td>\n",
              "      <td>False</td>\n",
              "      <td>1</td>\n",
              "      <td>0</td>\n",
              "      <td>1</td>\n",
              "      <td>1</td>\n",
              "      <td>0</td>\n",
              "      <td>0</td>\n",
              "      <td>0</td>\n",
              "      <td>0</td>\n",
              "      <td>0</td>\n",
              "      <td>0</td>\n",
              "      <td>0</td>\n",
              "    </tr>\n",
              "    <tr>\n",
              "      <th>1</th>\n",
              "      <td>7.0</td>\n",
              "      <td>50.0</td>\n",
              "      <td>1.020</td>\n",
              "      <td>4.0</td>\n",
              "      <td>0.0</td>\n",
              "      <td>NaN</td>\n",
              "      <td>18.0</td>\n",
              "      <td>0.8</td>\n",
              "      <td>NaN</td>\n",
              "      <td>NaN</td>\n",
              "      <td>11.3</td>\n",
              "      <td>38.0</td>\n",
              "      <td>6000.0</td>\n",
              "      <td>NaN</td>\n",
              "      <td>False</td>\n",
              "      <td>False</td>\n",
              "      <td>False</td>\n",
              "      <td>False</td>\n",
              "      <td>False</td>\n",
              "      <td>1</td>\n",
              "      <td>0</td>\n",
              "      <td>1</td>\n",
              "      <td>1</td>\n",
              "      <td>0</td>\n",
              "      <td>0</td>\n",
              "      <td>0</td>\n",
              "      <td>0</td>\n",
              "      <td>0</td>\n",
              "      <td>0</td>\n",
              "      <td>0</td>\n",
              "    </tr>\n",
              "    <tr>\n",
              "      <th>2</th>\n",
              "      <td>62.0</td>\n",
              "      <td>80.0</td>\n",
              "      <td>1.010</td>\n",
              "      <td>2.0</td>\n",
              "      <td>3.0</td>\n",
              "      <td>423.0</td>\n",
              "      <td>53.0</td>\n",
              "      <td>1.8</td>\n",
              "      <td>NaN</td>\n",
              "      <td>NaN</td>\n",
              "      <td>9.6</td>\n",
              "      <td>31.0</td>\n",
              "      <td>7500.0</td>\n",
              "      <td>NaN</td>\n",
              "      <td>False</td>\n",
              "      <td>False</td>\n",
              "      <td>False</td>\n",
              "      <td>False</td>\n",
              "      <td>False</td>\n",
              "      <td>1</td>\n",
              "      <td>1</td>\n",
              "      <td>0</td>\n",
              "      <td>1</td>\n",
              "      <td>0</td>\n",
              "      <td>0</td>\n",
              "      <td>0</td>\n",
              "      <td>0</td>\n",
              "      <td>0</td>\n",
              "      <td>1</td>\n",
              "      <td>0</td>\n",
              "    </tr>\n",
              "    <tr>\n",
              "      <th>3</th>\n",
              "      <td>48.0</td>\n",
              "      <td>70.0</td>\n",
              "      <td>1.005</td>\n",
              "      <td>4.0</td>\n",
              "      <td>0.0</td>\n",
              "      <td>117.0</td>\n",
              "      <td>56.0</td>\n",
              "      <td>3.8</td>\n",
              "      <td>111.0</td>\n",
              "      <td>2.5</td>\n",
              "      <td>11.2</td>\n",
              "      <td>32.0</td>\n",
              "      <td>6700.0</td>\n",
              "      <td>3.9</td>\n",
              "      <td>False</td>\n",
              "      <td>False</td>\n",
              "      <td>False</td>\n",
              "      <td>False</td>\n",
              "      <td>False</td>\n",
              "      <td>1</td>\n",
              "      <td>1</td>\n",
              "      <td>0</td>\n",
              "      <td>0</td>\n",
              "      <td>0</td>\n",
              "      <td>1</td>\n",
              "      <td>0</td>\n",
              "      <td>0</td>\n",
              "      <td>0</td>\n",
              "      <td>1</td>\n",
              "      <td>0</td>\n",
              "    </tr>\n",
              "    <tr>\n",
              "      <th>4</th>\n",
              "      <td>51.0</td>\n",
              "      <td>80.0</td>\n",
              "      <td>1.010</td>\n",
              "      <td>2.0</td>\n",
              "      <td>0.0</td>\n",
              "      <td>106.0</td>\n",
              "      <td>26.0</td>\n",
              "      <td>1.4</td>\n",
              "      <td>NaN</td>\n",
              "      <td>NaN</td>\n",
              "      <td>11.6</td>\n",
              "      <td>35.0</td>\n",
              "      <td>7300.0</td>\n",
              "      <td>4.6</td>\n",
              "      <td>False</td>\n",
              "      <td>False</td>\n",
              "      <td>False</td>\n",
              "      <td>False</td>\n",
              "      <td>False</td>\n",
              "      <td>1</td>\n",
              "      <td>1</td>\n",
              "      <td>0</td>\n",
              "      <td>1</td>\n",
              "      <td>0</td>\n",
              "      <td>0</td>\n",
              "      <td>0</td>\n",
              "      <td>0</td>\n",
              "      <td>0</td>\n",
              "      <td>0</td>\n",
              "      <td>0</td>\n",
              "    </tr>\n",
              "  </tbody>\n",
              "</table>\n",
              "</div>\n",
              "      <button class=\"colab-df-convert\" onclick=\"convertToInteractive('df-a0d16a72-448f-47d5-961d-6fa41f318adb')\"\n",
              "              title=\"Convert this dataframe to an interactive table.\"\n",
              "              style=\"display:none;\">\n",
              "        \n",
              "  <svg xmlns=\"http://www.w3.org/2000/svg\" height=\"24px\"viewBox=\"0 0 24 24\"\n",
              "       width=\"24px\">\n",
              "    <path d=\"M0 0h24v24H0V0z\" fill=\"none\"/>\n",
              "    <path d=\"M18.56 5.44l.94 2.06.94-2.06 2.06-.94-2.06-.94-.94-2.06-.94 2.06-2.06.94zm-11 1L8.5 8.5l.94-2.06 2.06-.94-2.06-.94L8.5 2.5l-.94 2.06-2.06.94zm10 10l.94 2.06.94-2.06 2.06-.94-2.06-.94-.94-2.06-.94 2.06-2.06.94z\"/><path d=\"M17.41 7.96l-1.37-1.37c-.4-.4-.92-.59-1.43-.59-.52 0-1.04.2-1.43.59L10.3 9.45l-7.72 7.72c-.78.78-.78 2.05 0 2.83L4 21.41c.39.39.9.59 1.41.59.51 0 1.02-.2 1.41-.59l7.78-7.78 2.81-2.81c.8-.78.8-2.07 0-2.86zM5.41 20L4 18.59l7.72-7.72 1.47 1.35L5.41 20z\"/>\n",
              "  </svg>\n",
              "      </button>\n",
              "      \n",
              "  <style>\n",
              "    .colab-df-container {\n",
              "      display:flex;\n",
              "      flex-wrap:wrap;\n",
              "      gap: 12px;\n",
              "    }\n",
              "\n",
              "    .colab-df-convert {\n",
              "      background-color: #E8F0FE;\n",
              "      border: none;\n",
              "      border-radius: 50%;\n",
              "      cursor: pointer;\n",
              "      display: none;\n",
              "      fill: #1967D2;\n",
              "      height: 32px;\n",
              "      padding: 0 0 0 0;\n",
              "      width: 32px;\n",
              "    }\n",
              "\n",
              "    .colab-df-convert:hover {\n",
              "      background-color: #E2EBFA;\n",
              "      box-shadow: 0px 1px 2px rgba(60, 64, 67, 0.3), 0px 1px 3px 1px rgba(60, 64, 67, 0.15);\n",
              "      fill: #174EA6;\n",
              "    }\n",
              "\n",
              "    [theme=dark] .colab-df-convert {\n",
              "      background-color: #3B4455;\n",
              "      fill: #D2E3FC;\n",
              "    }\n",
              "\n",
              "    [theme=dark] .colab-df-convert:hover {\n",
              "      background-color: #434B5C;\n",
              "      box-shadow: 0px 1px 3px 1px rgba(0, 0, 0, 0.15);\n",
              "      filter: drop-shadow(0px 1px 2px rgba(0, 0, 0, 0.3));\n",
              "      fill: #FFFFFF;\n",
              "    }\n",
              "  </style>\n",
              "\n",
              "      <script>\n",
              "        const buttonEl =\n",
              "          document.querySelector('#df-a0d16a72-448f-47d5-961d-6fa41f318adb button.colab-df-convert');\n",
              "        buttonEl.style.display =\n",
              "          google.colab.kernel.accessAllowed ? 'block' : 'none';\n",
              "\n",
              "        async function convertToInteractive(key) {\n",
              "          const element = document.querySelector('#df-a0d16a72-448f-47d5-961d-6fa41f318adb');\n",
              "          const dataTable =\n",
              "            await google.colab.kernel.invokeFunction('convertToInteractive',\n",
              "                                                     [key], {});\n",
              "          if (!dataTable) return;\n",
              "\n",
              "          const docLinkHtml = 'Like what you see? Visit the ' +\n",
              "            '<a target=\"_blank\" href=https://colab.research.google.com/notebooks/data_table.ipynb>data table notebook</a>'\n",
              "            + ' to learn more about interactive tables.';\n",
              "          element.innerHTML = '';\n",
              "          dataTable['output_type'] = 'display_data';\n",
              "          await google.colab.output.renderOutput(dataTable, element);\n",
              "          const docLink = document.createElement('div');\n",
              "          docLink.innerHTML = docLinkHtml;\n",
              "          element.appendChild(docLink);\n",
              "        }\n",
              "      </script>\n",
              "    </div>\n",
              "  </div>\n",
              "  "
            ]
          },
          "metadata": {},
          "execution_count": 32
        }
      ],
      "source": [
        "ckd_new.head()"
      ]
    },
    {
      "cell_type": "code",
      "execution_count": 33,
      "metadata": {
        "colab": {
          "base_uri": "https://localhost:8080/"
        },
        "id": "PZcHXVVOtGCv",
        "outputId": "772c6684-5eae-4db4-c403-16a18245af2e"
      },
      "outputs": [
        {
          "output_type": "stream",
          "name": "stdout",
          "text": [
            "<class 'pandas.core.frame.DataFrame'>\n",
            "RangeIndex: 400 entries, 0 to 399\n",
            "Data columns (total 30 columns):\n",
            " #   Column       Non-Null Count  Dtype  \n",
            "---  ------       --------------  -----  \n",
            " 0   age          391 non-null    float64\n",
            " 1   bp           388 non-null    float64\n",
            " 2   sg           353 non-null    float64\n",
            " 3   al           354 non-null    float64\n",
            " 4   su           351 non-null    float64\n",
            " 5   bgr          356 non-null    float64\n",
            " 6   bu           381 non-null    float64\n",
            " 7   sc           383 non-null    float64\n",
            " 8   sod          313 non-null    float64\n",
            " 9   pot          312 non-null    float64\n",
            " 10  hemo         348 non-null    float64\n",
            " 11  pcv          329 non-null    float64\n",
            " 12  wbcc         294 non-null    float64\n",
            " 13  rbcc         269 non-null    float64\n",
            " 14  htn          400 non-null    bool   \n",
            " 15  dm           400 non-null    bool   \n",
            " 16  cad          400 non-null    bool   \n",
            " 17  pe           400 non-null    bool   \n",
            " 18  ane          400 non-null    bool   \n",
            " 19  class        400 non-null    int64  \n",
            " 20  rbc_normal   400 non-null    uint8  \n",
            " 21  rbc_nan      400 non-null    uint8  \n",
            " 22  pc_normal    400 non-null    uint8  \n",
            " 23  pc_nan       400 non-null    uint8  \n",
            " 24  pcc_present  400 non-null    uint8  \n",
            " 25  pcc_nan      400 non-null    uint8  \n",
            " 26  ba_present   400 non-null    uint8  \n",
            " 27  ba_nan       400 non-null    uint8  \n",
            " 28  appet_poor   400 non-null    uint8  \n",
            " 29  appet_nan    400 non-null    uint8  \n",
            "dtypes: bool(5), float64(14), int64(1), uint8(10)\n",
            "memory usage: 52.9 KB\n"
          ]
        }
      ],
      "source": [
        "ckd_new.info()"
      ]
    },
    {
      "cell_type": "code",
      "execution_count": 34,
      "metadata": {
        "colab": {
          "base_uri": "https://localhost:8080/"
        },
        "id": "3AFkRLphtGCv",
        "outputId": "b8e7923a-9288-4fbb-8445-94e3ef2c2337"
      },
      "outputs": [
        {
          "output_type": "stream",
          "name": "stdout",
          "text": [
            "Samples with CKD = 250\n",
            "Samples with NO CKD = 150 \n"
          ]
        }
      ],
      "source": [
        "print('Samples with CKD = {0}\\nSamples with NO CKD = {1} '.format(ckd_new[ckd_new['class']==1].shape[0],ckd_new[ckd_new['class']==0].shape[0]))"
      ]
    },
    {
      "cell_type": "code",
      "execution_count": null,
      "metadata": {
        "id": "gqWm4Wb_tGCv"
      },
      "outputs": [],
      "source": [
        "# from pandas_profiling import ProfileReport\n",
        "# file = ProfileReport(ckd_new)\n",
        "# file.to_notebook_iframe()"
      ]
    },
    {
      "cell_type": "markdown",
      "metadata": {
        "id": "stLOW2eLtGCv"
      },
      "source": [
        "## 2.2 Handling Missing Values\n",
        "\n",
        "CKD numeric columns have NaN which PCA cannot deal with. One way is to impute these null values without biasing the algorithm.\n",
        "\n",
        "A common way to handle cases with missing values is to exclude them from the analysis, however if the initial dataset size is small, it may not be a good option as this further reduces the number of examples that can be used. \n",
        "\n",
        "In this case, one might be able to consider **imputation**, which are methods to help to fill in these missing values through statistical means. A simple method for numeric columns is to replace such missing values with the mean or median value of all of the available values for that variable. This can be done in `sklearn` using the `SimpleImputer` class."
      ]
    },
    {
      "cell_type": "code",
      "execution_count": 36,
      "metadata": {
        "id": "eYX5ux3vtGCw"
      },
      "outputs": [],
      "source": [
        "from sklearn.impute import SimpleImputer"
      ]
    },
    {
      "cell_type": "code",
      "execution_count": 37,
      "metadata": {
        "id": "Y36c9soPtGCw"
      },
      "outputs": [],
      "source": [
        "imp = SimpleImputer(missing_values=np.nan, strategy='mean')\n",
        "imp.fit(ckd_new[numeric_cols])\n",
        "ckd_new[numeric_cols] = imp.transform(ckd_new[numeric_cols])\n",
        "ckd_new[numeric_cols] = ckd_new[numeric_cols].astype(np.float32)"
      ]
    },
    {
      "cell_type": "markdown",
      "metadata": {
        "id": "QD1A1NdytGCw"
      },
      "source": [
        "## 2.3 Rescaling of numeric columns"
      ]
    },
    {
      "cell_type": "code",
      "execution_count": 38,
      "metadata": {
        "id": "nqrQbAXttGCw"
      },
      "outputs": [],
      "source": [
        "ckd_num = ckd_new[numeric_cols]\n",
        "ckd_std = StandardScaler().fit_transform(ckd_num)\n"
      ]
    },
    {
      "cell_type": "markdown",
      "metadata": {
        "id": "cRd2UCj3tGCw"
      },
      "source": [
        "## 2 Principal Component Analysis (PCA)\n",
        "\n",
        "For some datasets, there may be large number of observations and factors that are hard to visualize and explain in terms of factors. Principal components (PCs) are composite variables that are combinations of the original variables e.g. rbc, pc, pcc, ba etc that can be used to represent the original variables without losing too much information. You can think of these PCs as a new variable that represents a few of those variables. In this example, we will perform PCA on the numeric variables of the CKD dataset and see if these variables can be represented by a smaller set of factors or PCs. \n",
        "\n",
        "This is done using the ``PCA()`` object from ``sklearn.decomposition``."
      ]
    },
    {
      "cell_type": "code",
      "execution_count": 39,
      "metadata": {
        "id": "z1yISDV4tGCx"
      },
      "outputs": [],
      "source": [
        "import matplotlib.pyplot as plt\n",
        "from mpl_toolkits.mplot3d import Axes3D"
      ]
    },
    {
      "cell_type": "code",
      "execution_count": 40,
      "metadata": {
        "colab": {
          "base_uri": "https://localhost:8080/"
        },
        "id": "aCdnAe5ftGCx",
        "outputId": "5c3fc8a6-aac6-4a61-cfe9-c0caf198056f"
      },
      "outputs": [
        {
          "output_type": "execute_result",
          "data": {
            "text/plain": [
              "(400, 14)"
            ]
          },
          "metadata": {},
          "execution_count": 40
        }
      ],
      "source": [
        "pca = PCA()\n",
        "X_pca = pca.fit_transform(ckd_std)\n",
        "X_pca.shape"
      ]
    },
    {
      "cell_type": "markdown",
      "metadata": {
        "id": "sr6oVPcrtGCx"
      },
      "source": [
        "### Scree Plot for PCA\n",
        "\n",
        "As the objective of PCA is to reduce the number of factors to be used in the dataset, a key step is determine the number of components or PCs to be used. This can be done by plotting the total variance that each PC represents in the dataset and sorting them in descending order. Plot the bar chart using the code below. How many PCs do you think will be sufficient?"
      ]
    },
    {
      "cell_type": "code",
      "execution_count": 41,
      "metadata": {
        "colab": {
          "base_uri": "https://localhost:8080/",
          "height": 298
        },
        "id": "kwOrRrAbtGCx",
        "outputId": "eb9c866b-184f-49eb-e5e0-ed5faf6cad08"
      },
      "outputs": [
        {
          "output_type": "execute_result",
          "data": {
            "text/plain": [
              "Text(0.5, 0, 'Principal Component')"
            ]
          },
          "metadata": {},
          "execution_count": 41
        },
        {
          "output_type": "display_data",
          "data": {
            "text/plain": [
              "<Figure size 432x288 with 1 Axes>"
            ],
            "image/png": "[encoded data removed]"
          },
          "metadata": {
            "needs_background": "light"
          }
        }
      ],
      "source": [
        "%matplotlib inline\n",
        "plt.bar(range(1,X_pca.shape[1]+1),pca.explained_variance_ratio_)\n",
        "plt.ylabel('Proportion of Total Variance')\n",
        "plt.xlabel('Principal Component')"
      ]
    },
    {
      "cell_type": "code",
      "execution_count": 46,
      "metadata": {
        "colab": {
          "base_uri": "https://localhost:8080/"
        },
        "id": "y9Rc7XkgtGCy",
        "outputId": "affebec2-fd40-4847-8e2e-ffcfd122a9e4"
      },
      "outputs": [
        {
          "output_type": "execute_result",
          "data": {
            "text/plain": [
              "14"
            ]
          },
          "metadata": {},
          "execution_count": 46
        }
      ],
      "source": [
        "coeff = np.transpose(pca.components_[0:2, :])\n",
        "coeff.shape[0]"
      ]
    },
    {
      "cell_type": "markdown",
      "metadata": {
        "id": "DzACbppbtGCy"
      },
      "source": [
        "### Visualization for 2 PCs\n",
        "\n",
        "Based on the scree plot, 2 or 3 PCs will account for a reasonable proportion of total variations. Let's plot the cases according to these PCs and label them with their original labels (No CKD or CKD) and see if there are any patterns or clusters. Plot the scatterplot using the code below. What do you notice about the plotted points?"
      ]
    },
    {
      "cell_type": "code",
      "execution_count": 47,
      "metadata": {
        "id": "8nn3WCagtGCy"
      },
      "outputs": [],
      "source": [
        "y = ckd_new['class']"
      ]
    },
    {
      "cell_type": "code",
      "execution_count": 48,
      "metadata": {
        "colab": {
          "base_uri": "https://localhost:8080/",
          "height": 388
        },
        "id": "Rd5tWx0TtGCy",
        "outputId": "a2bcbf3e-0aae-41f2-bbc5-a2ac23e4b821"
      },
      "outputs": [
        {
          "output_type": "display_data",
          "data": {
            "text/plain": [
              "<Figure size 432x432 with 1 Axes>"
            ],
            "image/png": "[encoded data removed]"
          },
          "metadata": {
            "needs_background": "light"
          }
        }
      ],
      "source": [
        "%matplotlib inline\n",
        "# Visualize using PCA for labelled data\n",
        "colors = ['green', 'red']\n",
        "labels = ['No CKD','CKD']\n",
        "plt.figure(figsize=(6, 6))\n",
        "for color, i, target_name in zip(colors, [0, 1], [0,1]):\n",
        "    plt.scatter(X_pca[y == i, 0], X_pca[y == i, 1],\n",
        "                color=color, lw=2, label=labels[target_name])\n",
        "plt.legend(loc=\"best\", shadow=False, scatterpoints=1)\n",
        "for i in range(n):\n",
        "    plt.arrow(0, 0, coeff[i,0]*8, coeff[i,1]*8,color = 'b',alpha = 0.5)\n",
        "    plt.text(coeff[i,0]* 8, coeff[i,1] * 8, numeric_cols[i], color = 'black', ha = 'center', va = 'center',fontsize='large',fontweight='bold')\n",
        "# plt.axis([-4, 4, -1.5, 1.5])\n",
        "plt.xlabel('PC 1')\n",
        "plt.ylabel('PC 2')\n",
        "plt.show()"
      ]
    },
    {
      "cell_type": "markdown",
      "metadata": {
        "id": "cOtpTchxtGCz"
      },
      "source": [
        "### Visualization for 3 PCs\n",
        "\n",
        "As the scree plot indicates above, 3 PCs are also a reasonable number of PCs that can be used to represent these variables in the dataset. This can be visualized through a 3D scatterplot here. Do you see anything different from the 2D plot for 2 PCs?"
      ]
    },
    {
      "cell_type": "code",
      "execution_count": 49,
      "metadata": {
        "colab": {
          "base_uri": "https://localhost:8080/",
          "height": 391
        },
        "id": "WFbMH7-atGCz",
        "outputId": "0e3b472c-4d0a-4d8a-99f5-9eca9e6f754c"
      },
      "outputs": [
        {
          "output_type": "display_data",
          "data": {
            "text/plain": [
              "<Figure size 360x360 with 1 Axes>"
            ],
            "image/png": "[encoded data removed]"
          },
          "metadata": {
            "needs_background": "light"
          }
        }
      ],
      "source": [
        "# %matplotlib notebook\n",
        "fig = plt.figure(1, figsize=(5, 5))\n",
        "plt.clf()\n",
        "ax = Axes3D(fig)\n",
        "\n",
        "plt.cla()\n",
        "\n",
        "for name, label in [('No CKD', 0), ('CKD', 1)]:\n",
        "    ax.text3D(X_pca[y == label, 0].mean(),\n",
        "              X_pca[y == label, 1].mean() + 1.5,\n",
        "              X_pca[y == label, 2].mean(), name,\n",
        "              horizontalalignment='center',\n",
        "              bbox=dict(alpha=.5, edgecolor='black', facecolor='none'))\n",
        "ax.scatter(X_pca[:, 0], X_pca[:, 1], X_pca[:, 2], c=y, cmap='Paired',\n",
        "           edgecolor='k')\n",
        "\n",
        "ax.w_xaxis.set_ticklabels([])\n",
        "ax.w_yaxis.set_ticklabels([])\n",
        "ax.w_zaxis.set_ticklabels([])\n",
        "\n",
        "plt.show()"
      ]
    },
    {
      "cell_type": "markdown",
      "metadata": {
        "id": "HiZnHM8htGCz"
      },
      "source": [
        "## 3 K-Means Clustering\n",
        "\n",
        "K-Means clustering is an iterative algorithm that aims to find *k* number of cluster centers, given the variables in the input dataset. As this is an unsupervised learning method, no labels are required and the goal is to find patterns or natural clusters in the dataset. The algorithm starts by randomly initializing a given number of cluster centers, and iteratively updates these center positions according to the intra-cluster and inter-cluster distances between the cases and other cluster centers respectively. The ``KMeans()`` object from ``sklearn.cluster`` can be used to perform K-Means clustering on the CKD dataset."
      ]
    },
    {
      "cell_type": "code",
      "execution_count": 50,
      "metadata": {
        "colab": {
          "base_uri": "https://localhost:8080/"
        },
        "id": "M-UGct03tGCz",
        "outputId": "73bf371d-5d73-487e-897a-0b7e46677f36"
      },
      "outputs": [
        {
          "output_type": "stream",
          "name": "stderr",
          "text": [
            "/usr/local/lib/python3.7/dist-packages/ipykernel_launcher.py:2: SettingWithCopyWarning: \n",
            "A value is trying to be set on a copy of a slice from a DataFrame.\n",
            "Try using .loc[row_indexer,col_indexer] = value instead\n",
            "\n",
            "See the caveats in the documentation: https://pandas.pydata.org/pandas-docs/stable/user_guide/indexing.html#returning-a-view-versus-a-copy\n",
            "  \n"
          ]
        }
      ],
      "source": [
        "kmeans = KMeans(n_clusters=2).fit(ckd_std)\n",
        "ckd_num['cluster'] = kmeans.labels_"
      ]
    },
    {
      "cell_type": "code",
      "execution_count": 51,
      "metadata": {
        "colab": {
          "base_uri": "https://localhost:8080/"
        },
        "id": "GykzuUwztGCz",
        "outputId": "c9be9671-2ea8-4e45-b08d-6eeedf60043c"
      },
      "outputs": [
        {
          "output_type": "execute_result",
          "data": {
            "text/plain": [
              "array([[-0.41161987, -0.36100295,  0.6330001 , -0.59684795, -0.38179228,\n",
              "        -0.4405179 , -0.48678353, -0.33772245,  0.3425967 , -0.10555359,\n",
              "         0.7369189 ,  0.7209508 , -0.22449386,  0.6026217 ],\n",
              "       [ 0.40346888,  0.35385427, -0.62046605,  0.5850301 ,  0.3742312 ,\n",
              "         0.43179485,  0.47714418,  0.33103478, -0.3358124 ,  0.1034635 ,\n",
              "        -0.72232664, -0.70667416,  0.22004855, -0.59068865]],\n",
              "      dtype=float32)"
            ]
          },
          "metadata": {},
          "execution_count": 51
        }
      ],
      "source": [
        "kmeans.cluster_centers_"
      ]
    },
    {
      "cell_type": "markdown",
      "metadata": {
        "id": "QiJODLM4tGC0"
      },
      "source": [
        "### Number of Clusters\n",
        "\n",
        "In K-Means clustering, a key parameter is the number of initial clusters to use and can be determined using the inertia or within-cluster sum-of-squares. By plotting the inertia over different number of clusters, the optimal number of clusters can be determined by looking at the changes in inertia between each number of clusters. This is known as the **elbow method**, where a point is preceded by a large drop in inertia and followed by gradual decrease in inertia.\n",
        "\n",
        "Run the code below to plot the inertia values over varying numbers of clusters and observe the points. What would be a suitable number of clusters to use?"
      ]
    },
    {
      "cell_type": "code",
      "execution_count": 52,
      "metadata": {
        "colab": {
          "base_uri": "https://localhost:8080/",
          "height": 279
        },
        "id": "GrGWJ-ERtGC0",
        "outputId": "fc9fc5b1-4f4d-4951-8497-095993c74f68"
      },
      "outputs": [
        {
          "output_type": "display_data",
          "data": {
            "text/plain": [
              "<Figure size 432x288 with 1 Axes>"
            ],
            "image/png": "[encoded data removed]"
          },
          "metadata": {
            "needs_background": "light"
          }
        }
      ],
      "source": [
        "%matplotlib inline\n",
        "inertias = []\n",
        "for i in range(1, 11):\n",
        "    kmeans = KMeans(n_clusters=i, init='random',random_state=0)\n",
        "    kmeans.fit(ckd_std)\n",
        "    inertias.append(kmeans.inertia_)\n",
        "\n",
        "# plot\n",
        "plt.plot(range(1, 11), inertias, marker='o')\n",
        "plt.xlabel('Number of clusters')\n",
        "plt.ylabel('Inertia')\n",
        "plt.show()"
      ]
    },
    {
      "cell_type": "code",
      "execution_count": 53,
      "metadata": {
        "colab": {
          "base_uri": "https://localhost:8080/"
        },
        "id": "YQoF2Yt7tGC0",
        "outputId": "143fcda9-7dc2-4287-e549-96d0b1885e7b"
      },
      "outputs": [
        {
          "output_type": "execute_result",
          "data": {
            "text/plain": [
              "[5600.0,\n",
              " 4285.59716796875,\n",
              " 3838.94873046875,\n",
              " 3477.04345703125,\n",
              " 3147.865966796875,\n",
              " 2953.3310546875,\n",
              " 2797.28515625,\n",
              " 2695.4638671875,\n",
              " 2487.515625,\n",
              " 2390.2958984375]"
            ]
          },
          "metadata": {},
          "execution_count": 53
        }
      ],
      "source": [
        "inertias"
      ]
    },
    {
      "cell_type": "markdown",
      "metadata": {
        "id": "OAc91OKStGC0"
      },
      "source": [
        "### Visualizing Clusters with PCA\n",
        "\n",
        "Once a suitable number of clusters has been determined, perform the K-Means clustering on the scaled dataset with the specified number of clusters. However, unlike PCA, it is difficult to visualize the clusters across all possible features. Another way of is to use the PCs that have been generated from the PCA step as features that can be used for clustering.\n",
        "\n",
        "Fit the model using the `KMeans` method below and run the following code to plot the cluster labels across the PCs. What do you observe about the pattern between these two clusters and the earlier PC plot?"
      ]
    },
    {
      "cell_type": "code",
      "execution_count": 54,
      "metadata": {
        "id": "8694-6rYtGC0"
      },
      "outputs": [],
      "source": [
        "pca_df = pd.DataFrame(X_pca)"
      ]
    },
    {
      "cell_type": "code",
      "execution_count": 55,
      "metadata": {
        "id": "g0KETTaWtGC0"
      },
      "outputs": [],
      "source": [
        "kmeans = KMeans(n_clusters=2).fit(pca_df[[0,1]])\n",
        "pca_df['cluster'] = kmeans.labels_\n",
        "ckd['cluster'] = kmeans.labels_\n",
        "centers = kmeans.cluster_centers_\n",
        "# ckd_num['c']"
      ]
    },
    {
      "cell_type": "code",
      "execution_count": 56,
      "metadata": {
        "colab": {
          "base_uri": "https://localhost:8080/",
          "height": 388
        },
        "id": "L5V-J6_ttGC1",
        "outputId": "e028c54e-e9e0-47b8-d79d-338d1d92f02d"
      },
      "outputs": [
        {
          "output_type": "display_data",
          "data": {
            "text/plain": [
              "<Figure size 432x432 with 1 Axes>"
            ],
            "image/png": "[encoded data removed]"
          },
          "metadata": {
            "needs_background": "light"
          }
        }
      ],
      "source": [
        "# Visualizing with PCA for clustered data without labels (Unsupervised Learning)\n",
        "%matplotlib inline\n",
        "colors = ['green', 'red']\n",
        "clusters = ['Cluster 1','Cluster 2']\n",
        "plt.figure(figsize=(6, 6))\n",
        "for color, i, target_name in zip(colors, [0, 1], [0,1]):\n",
        "    plt.scatter(pca_df[pca_df['cluster'] == i][0], pca_df[pca_df['cluster'] == i][1],\n",
        "                color=color, lw=2, label=clusters[target_name])\n",
        "plt.scatter(centers[0][0], centers[0][1],\n",
        "                color='blue', lw=2, label='Cluster 1 Center')\n",
        "plt.scatter(centers[1][0], centers[1][1],\n",
        "                color='blue', lw=2, label='Cluster 2 Center')\n",
        "plt.legend(loc=\"best\", shadow=False, scatterpoints=1)\n",
        "# plt.axis([-4, 4, -1.5, 1.5])\n",
        "plt.xlabel('Age')\n",
        "plt.ylabel('Ejection Fraction')\n",
        "plt.show()"
      ]
    },
    {
      "cell_type": "markdown",
      "metadata": {
        "id": "lHSBok3GtGC1"
      },
      "source": [
        "### Examine Cluster Characteristics\n",
        "\n",
        "An alternative way to examine the cluster characteristics is to compare the summary statistics of the cases in each cluster. Run the descriptive summary for each cluster below and observe the statistics over the features. Are there any difference between the two clusters? What other methods would you use to compare the distribution of each feature?"
      ]
    },
    {
      "cell_type": "code",
      "execution_count": 57,
      "metadata": {
        "colab": {
          "base_uri": "https://localhost:8080/",
          "height": 300
        },
        "id": "RdGb6NFttGC1",
        "outputId": "4364aa9e-ae81-428e-afd1-ed894d19120c"
      },
      "outputs": [
        {
          "output_type": "execute_result",
          "data": {
            "text/plain": [
              "              age          bp          sg          al          su         bgr  \\\n",
              "count  193.000000  194.000000  165.000000  165.000000  163.000000  173.000000   \n",
              "mean    58.373057   80.927835    1.013364    1.939394    0.932515  186.583815   \n",
              "std     13.925984   15.104642    0.004525    1.319169    1.436426   96.043354   \n",
              "min      2.000000   50.000000    1.005000    0.000000    0.000000   70.000000   \n",
              "25%     50.000000   70.000000    1.010000    1.000000    0.000000  111.000000   \n",
              "50%     60.000000   80.000000    1.015000    2.000000    0.000000  158.000000   \n",
              "75%     68.000000   90.000000    1.015000    3.000000    2.000000  239.000000   \n",
              "max     90.000000  180.000000    1.025000    5.000000    5.000000  490.000000   \n",
              "\n",
              "               bu          sc         sod         pot        hemo         pcv  \\\n",
              "count  189.000000  191.000000  140.000000  139.000000  172.000000  155.000000   \n",
              "mean    83.072487    5.057853  133.060714    5.058273   10.222674   31.387097   \n",
              "std     60.449107    7.565212   13.329994    4.713239    1.997164    6.344429   \n",
              "min     16.000000    0.500000    4.500000    2.500000    3.100000    9.000000   \n",
              "25%     40.000000    1.700000  131.000000    3.900000    9.100000   28.000000   \n",
              "50%     65.000000    2.800000  135.000000    4.400000   10.300000   32.000000   \n",
              "75%    106.000000    5.750000  139.000000    5.050000   11.525000   36.000000   \n",
              "max    391.000000   76.000000  163.000000   47.000000   15.200000   44.000000   \n",
              "\n",
              "               wbcc        rbcc  cluster  \n",
              "count    129.000000  113.000000    200.0  \n",
              "mean    9289.147287    3.821239      0.0  \n",
              "std     3679.933770    0.795349      0.0  \n",
              "min     2600.000000    2.100000      0.0  \n",
              "25%     6900.000000    3.400000      0.0  \n",
              "50%     9200.000000    3.800000      0.0  \n",
              "75%    10700.000000    4.300000      0.0  \n",
              "max    26400.000000    8.000000      0.0  "
            ],
            "text/html": [
              "\n",
              "  <div id=\"df-e85ad55a-ec56-4c9a-85ae-1e3473608392\">\n",
              "    <div class=\"colab-df-container\">\n",
              "      <div>\n",
              "<style scoped>\n",
              "    .dataframe tbody tr th:only-of-type {\n",
              "        vertical-align: middle;\n",
              "    }\n",
              "\n",
              "    .dataframe tbody tr th {\n",
              "        vertical-align: top;\n",
              "    }\n",
              "\n",
              "    .dataframe thead th {\n",
              "        text-align: right;\n",
              "    }\n",
              "</style>\n",
              "<table border=\"1\" class=\"dataframe\">\n",
              "  <thead>\n",
              "    <tr style=\"text-align: right;\">\n",
              "      <th></th>\n",
              "      <th>age</th>\n",
              "      <th>bp</th>\n",
              "      <th>sg</th>\n",
              "      <th>al</th>\n",
              "      <th>su</th>\n",
              "      <th>bgr</th>\n",
              "      <th>bu</th>\n",
              "      <th>sc</th>\n",
              "      <th>sod</th>\n",
              "      <th>pot</th>\n",
              "      <th>hemo</th>\n",
              "      <th>pcv</th>\n",
              "      <th>wbcc</th>\n",
              "      <th>rbcc</th>\n",
              "      <th>cluster</th>\n",
              "    </tr>\n",
              "  </thead>\n",
              "  <tbody>\n",
              "    <tr>\n",
              "      <th>count</th>\n",
              "      <td>193.000000</td>\n",
              "      <td>194.000000</td>\n",
              "      <td>165.000000</td>\n",
              "      <td>165.000000</td>\n",
              "      <td>163.000000</td>\n",
              "      <td>173.000000</td>\n",
              "      <td>189.000000</td>\n",
              "      <td>191.000000</td>\n",
              "      <td>140.000000</td>\n",
              "      <td>139.000000</td>\n",
              "      <td>172.000000</td>\n",
              "      <td>155.000000</td>\n",
              "      <td>129.000000</td>\n",
              "      <td>113.000000</td>\n",
              "      <td>200.0</td>\n",
              "    </tr>\n",
              "    <tr>\n",
              "      <th>mean</th>\n",
              "      <td>58.373057</td>\n",
              "      <td>80.927835</td>\n",
              "      <td>1.013364</td>\n",
              "      <td>1.939394</td>\n",
              "      <td>0.932515</td>\n",
              "      <td>186.583815</td>\n",
              "      <td>83.072487</td>\n",
              "      <td>5.057853</td>\n",
              "      <td>133.060714</td>\n",
              "      <td>5.058273</td>\n",
              "      <td>10.222674</td>\n",
              "      <td>31.387097</td>\n",
              "      <td>9289.147287</td>\n",
              "      <td>3.821239</td>\n",
              "      <td>0.0</td>\n",
              "    </tr>\n",
              "    <tr>\n",
              "      <th>std</th>\n",
              "      <td>13.925984</td>\n",
              "      <td>15.104642</td>\n",
              "      <td>0.004525</td>\n",
              "      <td>1.319169</td>\n",
              "      <td>1.436426</td>\n",
              "      <td>96.043354</td>\n",
              "      <td>60.449107</td>\n",
              "      <td>7.565212</td>\n",
              "      <td>13.329994</td>\n",
              "      <td>4.713239</td>\n",
              "      <td>1.997164</td>\n",
              "      <td>6.344429</td>\n",
              "      <td>3679.933770</td>\n",
              "      <td>0.795349</td>\n",
              "      <td>0.0</td>\n",
              "    </tr>\n",
              "    <tr>\n",
              "      <th>min</th>\n",
              "      <td>2.000000</td>\n",
              "      <td>50.000000</td>\n",
              "      <td>1.005000</td>\n",
              "      <td>0.000000</td>\n",
              "      <td>0.000000</td>\n",
              "      <td>70.000000</td>\n",
              "      <td>16.000000</td>\n",
              "      <td>0.500000</td>\n",
              "      <td>4.500000</td>\n",
              "      <td>2.500000</td>\n",
              "      <td>3.100000</td>\n",
              "      <td>9.000000</td>\n",
              "      <td>2600.000000</td>\n",
              "      <td>2.100000</td>\n",
              "      <td>0.0</td>\n",
              "    </tr>\n",
              "    <tr>\n",
              "      <th>25%</th>\n",
              "      <td>50.000000</td>\n",
              "      <td>70.000000</td>\n",
              "      <td>1.010000</td>\n",
              "      <td>1.000000</td>\n",
              "      <td>0.000000</td>\n",
              "      <td>111.000000</td>\n",
              "      <td>40.000000</td>\n",
              "      <td>1.700000</td>\n",
              "      <td>131.000000</td>\n",
              "      <td>3.900000</td>\n",
              "      <td>9.100000</td>\n",
              "      <td>28.000000</td>\n",
              "      <td>6900.000000</td>\n",
              "      <td>3.400000</td>\n",
              "      <td>0.0</td>\n",
              "    </tr>\n",
              "    <tr>\n",
              "      <th>50%</th>\n",
              "      <td>60.000000</td>\n",
              "      <td>80.000000</td>\n",
              "      <td>1.015000</td>\n",
              "      <td>2.000000</td>\n",
              "      <td>0.000000</td>\n",
              "      <td>158.000000</td>\n",
              "      <td>65.000000</td>\n",
              "      <td>2.800000</td>\n",
              "      <td>135.000000</td>\n",
              "      <td>4.400000</td>\n",
              "      <td>10.300000</td>\n",
              "      <td>32.000000</td>\n",
              "      <td>9200.000000</td>\n",
              "      <td>3.800000</td>\n",
              "      <td>0.0</td>\n",
              "    </tr>\n",
              "    <tr>\n",
              "      <th>75%</th>\n",
              "      <td>68.000000</td>\n",
              "      <td>90.000000</td>\n",
              "      <td>1.015000</td>\n",
              "      <td>3.000000</td>\n",
              "      <td>2.000000</td>\n",
              "      <td>239.000000</td>\n",
              "      <td>106.000000</td>\n",
              "      <td>5.750000</td>\n",
              "      <td>139.000000</td>\n",
              "      <td>5.050000</td>\n",
              "      <td>11.525000</td>\n",
              "      <td>36.000000</td>\n",
              "      <td>10700.000000</td>\n",
              "      <td>4.300000</td>\n",
              "      <td>0.0</td>\n",
              "    </tr>\n",
              "    <tr>\n",
              "      <th>max</th>\n",
              "      <td>90.000000</td>\n",
              "      <td>180.000000</td>\n",
              "      <td>1.025000</td>\n",
              "      <td>5.000000</td>\n",
              "      <td>5.000000</td>\n",
              "      <td>490.000000</td>\n",
              "      <td>391.000000</td>\n",
              "      <td>76.000000</td>\n",
              "      <td>163.000000</td>\n",
              "      <td>47.000000</td>\n",
              "      <td>15.200000</td>\n",
              "      <td>44.000000</td>\n",
              "      <td>26400.000000</td>\n",
              "      <td>8.000000</td>\n",
              "      <td>0.0</td>\n",
              "    </tr>\n",
              "  </tbody>\n",
              "</table>\n",
              "</div>\n",
              "      <button class=\"colab-df-convert\" onclick=\"convertToInteractive('df-e85ad55a-ec56-4c9a-85ae-1e3473608392')\"\n",
              "              title=\"Convert this dataframe to an interactive table.\"\n",
              "              style=\"display:none;\">\n",
              "        \n",
              "  <svg xmlns=\"http://www.w3.org/2000/svg\" height=\"24px\"viewBox=\"0 0 24 24\"\n",
              "       width=\"24px\">\n",
              "    <path d=\"M0 0h24v24H0V0z\" fill=\"none\"/>\n",
              "    <path d=\"M18.56 5.44l.94 2.06.94-2.06 2.06-.94-2.06-.94-.94-2.06-.94 2.06-2.06.94zm-11 1L8.5 8.5l.94-2.06 2.06-.94-2.06-.94L8.5 2.5l-.94 2.06-2.06.94zm10 10l.94 2.06.94-2.06 2.06-.94-2.06-.94-.94-2.06-.94 2.06-2.06.94z\"/><path d=\"M17.41 7.96l-1.37-1.37c-.4-.4-.92-.59-1.43-.59-.52 0-1.04.2-1.43.59L10.3 9.45l-7.72 7.72c-.78.78-.78 2.05 0 2.83L4 21.41c.39.39.9.59 1.41.59.51 0 1.02-.2 1.41-.59l7.78-7.78 2.81-2.81c.8-.78.8-2.07 0-2.86zM5.41 20L4 18.59l7.72-7.72 1.47 1.35L5.41 20z\"/>\n",
              "  </svg>\n",
              "      </button>\n",
              "      \n",
              "  <style>\n",
              "    .colab-df-container {\n",
              "      display:flex;\n",
              "      flex-wrap:wrap;\n",
              "      gap: 12px;\n",
              "    }\n",
              "\n",
              "    .colab-df-convert {\n",
              "      background-color: #E8F0FE;\n",
              "      border: none;\n",
              "      border-radius: 50%;\n",
              "      cursor: pointer;\n",
              "      display: none;\n",
              "      fill: #1967D2;\n",
              "      height: 32px;\n",
              "      padding: 0 0 0 0;\n",
              "      width: 32px;\n",
              "    }\n",
              "\n",
              "    .colab-df-convert:hover {\n",
              "      background-color: #E2EBFA;\n",
              "      box-shadow: 0px 1px 2px rgba(60, 64, 67, 0.3), 0px 1px 3px 1px rgba(60, 64, 67, 0.15);\n",
              "      fill: #174EA6;\n",
              "    }\n",
              "\n",
              "    [theme=dark] .colab-df-convert {\n",
              "      background-color: #3B4455;\n",
              "      fill: #D2E3FC;\n",
              "    }\n",
              "\n",
              "    [theme=dark] .colab-df-convert:hover {\n",
              "      background-color: #434B5C;\n",
              "      box-shadow: 0px 1px 3px 1px rgba(0, 0, 0, 0.15);\n",
              "      filter: drop-shadow(0px 1px 2px rgba(0, 0, 0, 0.3));\n",
              "      fill: #FFFFFF;\n",
              "    }\n",
              "  </style>\n",
              "\n",
              "      <script>\n",
              "        const buttonEl =\n",
              "          document.querySelector('#df-e85ad55a-ec56-4c9a-85ae-1e3473608392 button.colab-df-convert');\n",
              "        buttonEl.style.display =\n",
              "          google.colab.kernel.accessAllowed ? 'block' : 'none';\n",
              "\n",
              "        async function convertToInteractive(key) {\n",
              "          const element = document.querySelector('#df-e85ad55a-ec56-4c9a-85ae-1e3473608392');\n",
              "          const dataTable =\n",
              "            await google.colab.kernel.invokeFunction('convertToInteractive',\n",
              "                                                     [key], {});\n",
              "          if (!dataTable) return;\n",
              "\n",
              "          const docLinkHtml = 'Like what you see? Visit the ' +\n",
              "            '<a target=\"_blank\" href=https://colab.research.google.com/notebooks/data_table.ipynb>data table notebook</a>'\n",
              "            + ' to learn more about interactive tables.';\n",
              "          element.innerHTML = '';\n",
              "          dataTable['output_type'] = 'display_data';\n",
              "          await google.colab.output.renderOutput(dataTable, element);\n",
              "          const docLink = document.createElement('div');\n",
              "          docLink.innerHTML = docLinkHtml;\n",
              "          element.appendChild(docLink);\n",
              "        }\n",
              "      </script>\n",
              "    </div>\n",
              "  </div>\n",
              "  "
            ]
          },
          "metadata": {},
          "execution_count": 57
        }
      ],
      "source": [
        "ckd[ckd['cluster'] == 0].describe()"
      ]
    },
    {
      "cell_type": "code",
      "execution_count": null,
      "metadata": {
        "id": "YBEChZXptGC1",
        "outputId": "b23aafe3-0829-4076-d46d-bcef5633a974"
      },
      "outputs": [
        {
          "data": {
            "text/html": [
              "<div>\n",
              "<style scoped>\n",
              "    .dataframe tbody tr th:only-of-type {\n",
              "        vertical-align: middle;\n",
              "    }\n",
              "\n",
              "    .dataframe tbody tr th {\n",
              "        vertical-align: top;\n",
              "    }\n",
              "\n",
              "    .dataframe thead th {\n",
              "        text-align: right;\n",
              "    }\n",
              "</style>\n",
              "<table border=\"1\" class=\"dataframe\">\n",
              "  <thead>\n",
              "    <tr style=\"text-align: right;\">\n",
              "      <th></th>\n",
              "      <th>age</th>\n",
              "      <th>bp</th>\n",
              "      <th>sg</th>\n",
              "      <th>al</th>\n",
              "      <th>su</th>\n",
              "      <th>bgr</th>\n",
              "      <th>bu</th>\n",
              "      <th>sc</th>\n",
              "      <th>sod</th>\n",
              "      <th>pot</th>\n",
              "      <th>hemo</th>\n",
              "      <th>pcv</th>\n",
              "      <th>wbcc</th>\n",
              "      <th>rbcc</th>\n",
              "      <th>cluster</th>\n",
              "    </tr>\n",
              "  </thead>\n",
              "  <tbody>\n",
              "    <tr>\n",
              "      <th>count</th>\n",
              "      <td>193.000000</td>\n",
              "      <td>194.000000</td>\n",
              "      <td>165.000000</td>\n",
              "      <td>165.000000</td>\n",
              "      <td>163.000000</td>\n",
              "      <td>173.000000</td>\n",
              "      <td>189.000000</td>\n",
              "      <td>191.000000</td>\n",
              "      <td>140.000000</td>\n",
              "      <td>139.000000</td>\n",
              "      <td>172.000000</td>\n",
              "      <td>155.000000</td>\n",
              "      <td>129.000000</td>\n",
              "      <td>113.000000</td>\n",
              "      <td>200.0</td>\n",
              "    </tr>\n",
              "    <tr>\n",
              "      <th>mean</th>\n",
              "      <td>58.373057</td>\n",
              "      <td>80.927835</td>\n",
              "      <td>1.013364</td>\n",
              "      <td>1.939394</td>\n",
              "      <td>0.932515</td>\n",
              "      <td>186.583815</td>\n",
              "      <td>83.072487</td>\n",
              "      <td>5.057853</td>\n",
              "      <td>133.060714</td>\n",
              "      <td>5.058273</td>\n",
              "      <td>10.222674</td>\n",
              "      <td>31.387097</td>\n",
              "      <td>9289.147287</td>\n",
              "      <td>3.821239</td>\n",
              "      <td>1.0</td>\n",
              "    </tr>\n",
              "    <tr>\n",
              "      <th>std</th>\n",
              "      <td>13.925984</td>\n",
              "      <td>15.104642</td>\n",
              "      <td>0.004525</td>\n",
              "      <td>1.319169</td>\n",
              "      <td>1.436426</td>\n",
              "      <td>96.043354</td>\n",
              "      <td>60.449107</td>\n",
              "      <td>7.565212</td>\n",
              "      <td>13.329994</td>\n",
              "      <td>4.713239</td>\n",
              "      <td>1.997164</td>\n",
              "      <td>6.344429</td>\n",
              "      <td>3679.933770</td>\n",
              "      <td>0.795349</td>\n",
              "      <td>0.0</td>\n",
              "    </tr>\n",
              "    <tr>\n",
              "      <th>min</th>\n",
              "      <td>2.000000</td>\n",
              "      <td>50.000000</td>\n",
              "      <td>1.005000</td>\n",
              "      <td>0.000000</td>\n",
              "      <td>0.000000</td>\n",
              "      <td>70.000000</td>\n",
              "      <td>16.000000</td>\n",
              "      <td>0.500000</td>\n",
              "      <td>4.500000</td>\n",
              "      <td>2.500000</td>\n",
              "      <td>3.100000</td>\n",
              "      <td>9.000000</td>\n",
              "      <td>2600.000000</td>\n",
              "      <td>2.100000</td>\n",
              "      <td>1.0</td>\n",
              "    </tr>\n",
              "    <tr>\n",
              "      <th>25%</th>\n",
              "      <td>50.000000</td>\n",
              "      <td>70.000000</td>\n",
              "      <td>1.010000</td>\n",
              "      <td>1.000000</td>\n",
              "      <td>0.000000</td>\n",
              "      <td>111.000000</td>\n",
              "      <td>40.000000</td>\n",
              "      <td>1.700000</td>\n",
              "      <td>131.000000</td>\n",
              "      <td>3.900000</td>\n",
              "      <td>9.100000</td>\n",
              "      <td>28.000000</td>\n",
              "      <td>6900.000000</td>\n",
              "      <td>3.400000</td>\n",
              "      <td>1.0</td>\n",
              "    </tr>\n",
              "    <tr>\n",
              "      <th>50%</th>\n",
              "      <td>60.000000</td>\n",
              "      <td>80.000000</td>\n",
              "      <td>1.015000</td>\n",
              "      <td>2.000000</td>\n",
              "      <td>0.000000</td>\n",
              "      <td>158.000000</td>\n",
              "      <td>65.000000</td>\n",
              "      <td>2.800000</td>\n",
              "      <td>135.000000</td>\n",
              "      <td>4.400000</td>\n",
              "      <td>10.300000</td>\n",
              "      <td>32.000000</td>\n",
              "      <td>9200.000000</td>\n",
              "      <td>3.800000</td>\n",
              "      <td>1.0</td>\n",
              "    </tr>\n",
              "    <tr>\n",
              "      <th>75%</th>\n",
              "      <td>68.000000</td>\n",
              "      <td>90.000000</td>\n",
              "      <td>1.015000</td>\n",
              "      <td>3.000000</td>\n",
              "      <td>2.000000</td>\n",
              "      <td>239.000000</td>\n",
              "      <td>106.000000</td>\n",
              "      <td>5.750000</td>\n",
              "      <td>139.000000</td>\n",
              "      <td>5.050000</td>\n",
              "      <td>11.525000</td>\n",
              "      <td>36.000000</td>\n",
              "      <td>10700.000000</td>\n",
              "      <td>4.300000</td>\n",
              "      <td>1.0</td>\n",
              "    </tr>\n",
              "    <tr>\n",
              "      <th>max</th>\n",
              "      <td>90.000000</td>\n",
              "      <td>180.000000</td>\n",
              "      <td>1.025000</td>\n",
              "      <td>5.000000</td>\n",
              "      <td>5.000000</td>\n",
              "      <td>490.000000</td>\n",
              "      <td>391.000000</td>\n",
              "      <td>76.000000</td>\n",
              "      <td>163.000000</td>\n",
              "      <td>47.000000</td>\n",
              "      <td>15.200000</td>\n",
              "      <td>44.000000</td>\n",
              "      <td>26400.000000</td>\n",
              "      <td>8.000000</td>\n",
              "      <td>1.0</td>\n",
              "    </tr>\n",
              "  </tbody>\n",
              "</table>\n",
              "</div>"
            ],
            "text/plain": [
              "              age          bp          sg          al          su         bgr  \\\n",
              "count  193.000000  194.000000  165.000000  165.000000  163.000000  173.000000   \n",
              "mean    58.373057   80.927835    1.013364    1.939394    0.932515  186.583815   \n",
              "std     13.925984   15.104642    0.004525    1.319169    1.436426   96.043354   \n",
              "min      2.000000   50.000000    1.005000    0.000000    0.000000   70.000000   \n",
              "25%     50.000000   70.000000    1.010000    1.000000    0.000000  111.000000   \n",
              "50%     60.000000   80.000000    1.015000    2.000000    0.000000  158.000000   \n",
              "75%     68.000000   90.000000    1.015000    3.000000    2.000000  239.000000   \n",
              "max     90.000000  180.000000    1.025000    5.000000    5.000000  490.000000   \n",
              "\n",
              "               bu          sc         sod         pot        hemo         pcv  \\\n",
              "count  189.000000  191.000000  140.000000  139.000000  172.000000  155.000000   \n",
              "mean    83.072487    5.057853  133.060714    5.058273   10.222674   31.387097   \n",
              "std     60.449107    7.565212   13.329994    4.713239    1.997164    6.344429   \n",
              "min     16.000000    0.500000    4.500000    2.500000    3.100000    9.000000   \n",
              "25%     40.000000    1.700000  131.000000    3.900000    9.100000   28.000000   \n",
              "50%     65.000000    2.800000  135.000000    4.400000   10.300000   32.000000   \n",
              "75%    106.000000    5.750000  139.000000    5.050000   11.525000   36.000000   \n",
              "max    391.000000   76.000000  163.000000   47.000000   15.200000   44.000000   \n",
              "\n",
              "               wbcc        rbcc  cluster  \n",
              "count    129.000000  113.000000    200.0  \n",
              "mean    9289.147287    3.821239      1.0  \n",
              "std     3679.933770    0.795349      0.0  \n",
              "min     2600.000000    2.100000      1.0  \n",
              "25%     6900.000000    3.400000      1.0  \n",
              "50%     9200.000000    3.800000      1.0  \n",
              "75%    10700.000000    4.300000      1.0  \n",
              "max    26400.000000    8.000000      1.0  "
            ]
          },
          "execution_count": 36,
          "metadata": {},
          "output_type": "execute_result"
        }
      ],
      "source": [
        "ckd[ckd['cluster'] == 1].describe()"
      ]
    },
    {
      "cell_type": "markdown",
      "metadata": {
        "id": "kWoskRU9tGC1"
      },
      "source": [
        "### t-SNE visualization of clusters\n",
        "\n",
        "t-Distributed Stochastic Neighbor Embedding (t-SNE) is an unsupervised, non-linear technique primarily used for data exploration and visualizing high-dimensional data. \n",
        "\n",
        "1.  Step 1, measure similarities between points in the high dimensional space. For each data point (xi) we’ll center a Gaussian distribution over that point. Then we measure the density of all points (xj) under that Gaussian distribution. Then renormalize for all points. This gives us a set of probabilities (Pij) for all points. Those probabilities are proportional to the similarities. \n",
        "2.  Step 2 is similar to step 1, but instead of using a Gaussian distribution you use a Student t-distribution with one degree of freedom, which is also known as the Cauchy distribution \n",
        "3.  Step 3, Map these set of probabilities from the low-dimensional space (Qij) to reflect those of the high dimensional space (Pij) as best as possible. "
      ]
    },
    {
      "cell_type": "code",
      "execution_count": 58,
      "metadata": {
        "id": "uBCLcj_qtGC2"
      },
      "outputs": [],
      "source": [
        "import seaborn as sns\n",
        "from sklearn.manifold import TSNE"
      ]
    },
    {
      "cell_type": "code",
      "execution_count": 59,
      "metadata": {
        "colab": {
          "base_uri": "https://localhost:8080/"
        },
        "id": "CXZHWIBStGC2",
        "outputId": "7739668e-fd48-4f00-f5a1-ca9e07d7a529"
      },
      "outputs": [
        {
          "output_type": "stream",
          "name": "stderr",
          "text": [
            "/usr/local/lib/python3.7/dist-packages/sklearn/manifold/_t_sne.py:783: FutureWarning: The default initialization in TSNE will change from 'random' to 'pca' in 1.2.\n",
            "  FutureWarning,\n",
            "/usr/local/lib/python3.7/dist-packages/sklearn/manifold/_t_sne.py:793: FutureWarning: The default learning rate in TSNE will change from 200.0 to 'auto' in 1.2.\n",
            "  FutureWarning,\n"
          ]
        },
        {
          "output_type": "stream",
          "name": "stdout",
          "text": [
            "[t-SNE] Computing 91 nearest neighbors...\n",
            "[t-SNE] Indexed 400 samples in 0.003s...\n",
            "[t-SNE] Computed neighbors for 400 samples in 0.007s...\n",
            "[t-SNE] Computed conditional probabilities for sample 400 / 400\n",
            "[t-SNE] Mean sigma: 57.800237\n",
            "[t-SNE] KL divergence after 250 iterations with early exaggeration: 51.885319\n",
            "[t-SNE] KL divergence after 1000 iterations: 0.160014\n"
          ]
        }
      ],
      "source": [
        "tsne = TSNE(n_components=2, verbose=1, random_state=123)\n",
        "z = tsne.fit_transform(ckd_num) "
      ]
    },
    {
      "cell_type": "code",
      "execution_count": 60,
      "metadata": {
        "id": "ZaEnrTE8tGC2"
      },
      "outputs": [],
      "source": [
        "df_tsne=pd.DataFrame(ckd_new['class'])\n",
        "df_tsne['TSNE Component 1']=z[:,0].copy()\n",
        "df_tsne['TSNE Component 2']=z[:,1].copy()"
      ]
    },
    {
      "cell_type": "code",
      "execution_count": 61,
      "metadata": {
        "colab": {
          "base_uri": "https://localhost:8080/",
          "height": 312
        },
        "id": "z4T3wEpJtGC2",
        "outputId": "7185d34b-f783-4674-8062-0f88a14ad140"
      },
      "outputs": [
        {
          "output_type": "execute_result",
          "data": {
            "text/plain": [
              "[Text(0.5, 1.0, 'CKD data T-SNE projection')]"
            ]
          },
          "metadata": {},
          "execution_count": 61
        },
        {
          "output_type": "display_data",
          "data": {
            "text/plain": [
              "<Figure size 432x288 with 1 Axes>"
            ],
            "image/png": "[encoded data removed]"
          },
          "metadata": {
            "needs_background": "light"
          }
        }
      ],
      "source": [
        "# plotting CKD vs non CKD as colour coded above the clusters generated\n",
        "sns.scatterplot(x=\"TSNE Component 1\", y=\"TSNE Component 2\", hue=df_tsne['class'].tolist(), palette=sns.color_palette(\"hls\", 2),\n",
        "                data=df_tsne).set(title=\"CKD data T-SNE projection\")\n",
        "\n"
      ]
    }
  ],
  "metadata": {
    "kernelspec": {
      "display_name": "Python 3.8.10 ('snowflakes')",
      "language": "python",
      "name": "python3"
    },
    "language_info": {
      "codemirror_mode": {
        "name": "ipython",
        "version": 3
      },
      "file_extension": ".py",
      "mimetype": "text/x-python",
      "name": "python",
      "nbconvert_exporter": "python",
      "pygments_lexer": "ipython3",
      "version": "3.8.10"
    },
    "orig_nbformat": 4,
    "vscode": {
      "interpreter": {
        "hash": "29bc6fb767ed4294db6b39c39c9d90ba3f5587e5b8a682d2dfc088b2cafbf2c0"
      }
    },
    "colab": {
      "name": "Lecture 5_Unsupervised Learning.ipynb",
      "provenance": [],
      "toc_visible": true
    }
  },
  "nbformat": 4,
  "nbformat_minor": 0
}